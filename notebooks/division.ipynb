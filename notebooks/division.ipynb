{
 "cells": [
  {
   "cell_type": "markdown",
   "id": "e0d6253a-03c4-4710-af76-aba079a85471",
   "metadata": {},
   "source": [
    "# Debugging Division By Zero Errors with Avicenna\n",
    "\n",
    "This notebook explores the use of the Avicenna tool to understand and diagnose failure scenarios that lead to a division by zero error in a calculator program. We aim to create a grammar that defines possible arithmetic expressions and utilize Avicenna's capabilities to identify expressions that could result in division by zero."
   ]
  },
  {
   "cell_type": "code",
   "execution_count": 1,
   "id": "911cbcbb-3752-4324-bce9-448c3b1db324",
   "metadata": {},
   "outputs": [],
   "source": [
    "# Suppress logging for the notebook; uncomment the last line to disable Avicenna logs\n",
    "import logging\n",
    "\n",
    "# This will disable all logging messages\n",
    "#logging.disable(logging.CRITICAL)"
   ]
  },
  {
   "cell_type": "markdown",
   "id": "578d03b4-7f32-4365-8a2d-4ebfc8ae1245",
   "metadata": {},
   "source": [
    "## Defining the Grammar for Arithmetic Expressions\n",
    "\n",
    "The grammar below specifies the structure of valid arithmetic expressions. It includes operations (addition, subtraction, multiplication, division) and numeric values, which may include whole numbers, fractions, and negative values. The grammar is designed to exhaustively explore various combinations that could potentially lead to a division by zero scenario."
   ]
  },
  {
   "cell_type": "code",
   "execution_count": 2,
   "id": "39cc67d8-07be-4028-8cdd-597e90554c46",
   "metadata": {},
   "outputs": [],
   "source": [
    "import string\n",
    "from debugging_framework.fuzzingbook.grammar import Grammar, is_valid_grammar\n",
    "\n",
    "divide_by_zero_grammar: Grammar = {\n",
    "   \"<start>\": [\"<arith_expr>\"],\n",
    "   \"<arith_expr>\": [\"<arith_expr><operator><arith_expr>\", \"<number>\", \"(<arith_expr>)\"],\n",
    "   \"<operator>\": [\"+\", \"-\", \"*\", \"/\"],\n",
    "   \"<number>\": [\"<maybe_minus><non_zero_digit><maybe_digits><maybe_frac>\", \"<maybe_minus>0.<digits>\", \"<maybe_minus>0\"],\n",
    "   \"<maybe_minus>\": [\"\", \"-\"],\n",
    "   \"<non_zero_digit>\": [str(num) for num in range(1, 10)],  # Exclude 0 from starting digits\n",
    "   \"<digit>\": list(string.digits),\n",
    "   \"<maybe_digits>\": [\"\", \"<digits>\"],\n",
    "   \"<digits>\": [\"<digit>\", \"<digit><digits>\"],\n",
    "   \"<maybe_frac>\": [\"\", \".<digits>\"],\n",
    "}"
   ]
  },
  {
   "cell_type": "markdown",
   "id": "a62fb64c-d8a3-4ba4-8d06-fea79a80a727",
   "metadata": {},
   "source": [
    "It's essential to ensure that the defined grammar is valid and can generate the intended strings without errors. The validation step confirms the grammar's structure and usability before it is used to generate test cases."
   ]
  },
  {
   "cell_type": "code",
   "execution_count": 3,
   "id": "905c4076-b421-4b1e-aad4-1b52a772cd27",
   "metadata": {},
   "outputs": [],
   "source": [
    "assert is_valid_grammar(divide_by_zero_grammar)"
   ]
  },
  {
   "cell_type": "markdown",
   "id": "c2af0c21-2e38-4a2f-a19f-28e13cb223ba",
   "metadata": {},
   "source": [
    "## Oracle Function and Initial Inputs\n",
    "\n",
    "The oracle function evaluates arithmetic expressions to detect whether they result in a division by zero error. We define initial inputs known to either pass or trigger the division by zero error to start the diagnosis process with known outcomes. These examples help Avicenna in learning and refining its model of failure.\n"
   ]
  },
  {
   "cell_type": "code",
   "execution_count": 4,
   "id": "f522bdd9-6bbb-49bb-85c0-a235650bcb1a",
   "metadata": {},
   "outputs": [],
   "source": [
    "from avicenna.data import OracleResult\n",
    "\n",
    "# Oracle for divide by zero\n",
    "def divide_by_zero_oracle(inp: str):\n",
    "   try:\n",
    "       eval(str(inp))  \n",
    "   except ZeroDivisionError as e:\n",
    "       return OracleResult.FAILING, ZeroDivisionError\n",
    "   return OracleResult.PASSING, None\n",
    "\n",
    "# Initial inputs for Avicenna\n",
    "divide_by_zero_inputs =  ['1/0', '5/(3-3)', '(2+3)/5', '7/(2*0)', '9/(0/3)']"
   ]
  },
  {
   "cell_type": "markdown",
   "id": "798d197b-42a4-4a25-92fd-d8acc31a5d12",
   "metadata": {},
   "source": [
    "## Initializing Avicenna for Diagnosis\n",
    "\n",
    "An instance of Avicenna is created with the specified grammar, the oracle function, and the initial set of test inputs. We set a limit on the number of iterations Avicenna should perform, which controls the depth of analysis while trying to understand the failure scenarios."
   ]
  },
  {
   "cell_type": "code",
   "execution_count": 5,
   "id": "7d7a5b01-f39e-4748-9811-d848c00262f7",
   "metadata": {},
   "outputs": [],
   "source": [
    "from avicenna import Avicenna\n",
    "\n",
    "# Avicenna instance\n",
    "avicenna_divide_by_zero = Avicenna(\n",
    "    grammar=divide_by_zero_grammar,\n",
    "    oracle=divide_by_zero_oracle,\n",
    "    initial_inputs=divide_by_zero_inputs,\n",
    "    max_iterations=5,\n",
    ")"
   ]
  },
  {
   "cell_type": "markdown",
   "id": "a1e022d2-acf8-4de0-8d4d-c4f2f1f101d1",
   "metadata": {},
   "source": [
    "## Diagnosis Results\n",
    "\n",
    "After running the diagnostic process, Avicenna provides a set of constraints that describe the circumstances under which the failure occurs, along with the precision and recall of its findings. These metrics help assess the accuracy and completeness of the diagnosis.\n"
   ]
  },
  {
   "cell_type": "code",
   "execution_count": 6,
   "id": "71b576fe-5949-4a25-929c-1dc9bfcc7589",
   "metadata": {},
   "outputs": [],
   "source": [
    "# Getting the diagnosis from Avicenna\n",
    "diagnosis = avicenna_divide_by_zero.explain()"
   ]
  },
  {
   "cell_type": "code",
   "execution_count": 7,
   "id": "fb644adb-07db-48e0-8ca2-4c44b658010a",
   "metadata": {},
   "outputs": [],
   "source": [
    "failure_diagnosis = diagnosis.pop(0)"
   ]
  },
  {
   "cell_type": "code",
   "execution_count": 8,
   "id": "bb1eedd4-8a31-42ad-9f91-f5d452850413",
   "metadata": {},
   "outputs": [
    {
     "name": "stdout",
     "output_type": "stream",
     "text": [
      "Avicenna determined the following constraints to describe the failure circumstances:\n",
      "\n",
      "(exists <operator> elem in start:\n",
      "   (= elem \"/\") and\n",
      "forall <digit> elem_0 in start:\n",
      "  (>= (str.to.int elem_0) (str.to.int \"1\")))\n",
      "Avicenna calculated a precision of 92.86% and a recall of 100.00%\n",
      "\n"
     ]
    }
   ],
   "source": [
    "from isla.language import ISLaUnparser\n",
    "\n",
    "print(f\"Avicenna determined the following constraints to describe the failure circumstances:\\n\")\n",
    "\n",
    "print(ISLaUnparser(failure_diagnosis.formula).unparse())\n",
    "print(f\"Avicenna calculated a precision of {failure_diagnosis.precision()*100:.2f}% and a recall of {failure_diagnosis.recall()*100:.2f}%\", end=\"\\n\\n\")"
   ]
  },
  {
   "cell_type": "markdown",
   "id": "b47d21af-0497-4e16-8bdb-0ff4c05e4951",
   "metadata": {},
   "source": [
    "This constraint specifies that a failure (division by zero error) is predicted to occur if there exists an operator element (\\<operator>) in the starting expression (\\<start>) which is specifically a division operator (\"/\"). In simpler terms, Avicenna has learned that the presence of a division operator in an arithmetic expression is necessary for a division by zero error to potentially occur."
   ]
  },
  {
   "cell_type": "markdown",
   "id": "910bc721-074a-40ba-b586-fec03738d133",
   "metadata": {},
   "source": [
    "#### Limitations"
   ]
  },
  {
   "cell_type": "markdown",
   "id": "52f5fd3b-fec0-44b2-8e7f-9d5cb63d9ebe",
   "metadata": {},
   "source": [
    "The diagnosis provided by Avicenna, stating the existence of an operator \"/\" in the expression as a key to predicting a division by zero, and the noted precision and recall metrics offer insights into its performance. However, this diagnosis isn't perfect for identifying all arithmetic expressions that can cause a division by zero for several reasons:"
   ]
  },
  {
   "cell_type": "markdown",
   "id": "dd5e319e-a352-444e-b8c5-0209319eee1f",
   "metadata": {},
   "source": [
    "The constraint \n",
    "```\n",
    "exists <operator> elem in start:\n",
    "    (= elem \"/\")\n",
    "```\n",
    "simplifies the problem by stating that the presence of a division operator \"/\" anywhere in the expression is a significant indicator of a potential division by zero. This approach is too general because:\n",
    "\n",
    "- **Not all divisions lead to zero**: Just because an expression contains a division does not necessarily mean it will result in a division by zero. The diagnosis doesn't consider the value of the denominator, which is crucial.\n",
    "- **False positives**: This leads to many false positives, where divisions are normal and valid (e.g., (2+3)/5), which explains why the precision is less than 100%.\n",
    "- **Position and role of zeros**: For a division by zero to occur, the division operator must be immediately followed by a zero or an expression that evaluates to zero. The diagnosis doesn’t specify this.\n",
    "- **Complex expressions**: Expressions like 5/(3-3) or 7/(2*0) involve more complex scenarios where the denominator results in zero due to the operation, not just the presence of a zero or division operator."
   ]
  },
  {
   "cell_type": "markdown",
   "id": "c6c3186d-21a5-407d-8dde-27fc68e211ed",
   "metadata": {},
   "source": [
    "For the diagnosis to be perfect, Avicenna would need to more accurately identify only those scenarios where the denominator evaluates to zero, without overgeneralizing to all uses of the division operator. Improving the model might involve refining the grammar used to generate test cases, providing more diverse training inputs, and possibly enhancing the model's understanding of complex arithmetic expressions. The goal would be to maintain the high recall while increasing precision, thus reducing false positives."
   ]
  },
  {
   "cell_type": "markdown",
   "id": "165b2474-0288-4da5-a7a6-288577b23059",
   "metadata": {},
   "source": [
    "## Evaluation of the Learned Constraint"
   ]
  },
  {
   "cell_type": "code",
   "execution_count": 9,
   "id": "26616c88-8777-4dbe-a6af-7f5c400e51dd",
   "metadata": {},
   "outputs": [
    {
     "name": "stdout",
     "output_type": "stream",
     "text": [
      "Generated 761 inputs for evaluation!\n"
     ]
    }
   ],
   "source": [
    "from debugging_framework.fuzzingbook.fuzzer import GrammarFuzzer\n",
    "from debugging_framework.input.input import Input\n",
    "\n",
    "grammar = divide_by_zero_grammar\n",
    "\n",
    "evaluation_data_set = set()\n",
    "fuzzer = GrammarFuzzer(grammar)\n",
    "\n",
    "for _ in range(1000):\n",
    "    tree = fuzzer.fuzz()\n",
    "    evaluation_data_set.add(Input.from_str(grammar=grammar, input_string=tree))\n",
    "\n",
    "print(f\"Generated {len(evaluation_data_set)} inputs for evaluation!\")"
   ]
  },
  {
   "cell_type": "code",
   "execution_count": 10,
   "id": "f587f66b-087a-4936-a767-e03881ceef2c",
   "metadata": {},
   "outputs": [
    {
     "name": "stdout",
     "output_type": "stream",
     "text": [
      "Generated 560 passing inputs for evaluation!\n",
      "Generated 201 passing inputs for evaluation!\n"
     ]
    }
   ],
   "source": [
    "from debugging_framework.input.input import OracleResult\n",
    "\n",
    "oracle = divide_by_zero_oracle\n",
    "failing = set()\n",
    "passing = set()\n",
    "\n",
    "for inp in evaluation_data_set:\n",
    "    oracle_result, exception = oracle(inp)\n",
    "\n",
    "    if oracle_result == OracleResult.FAILING:\n",
    "        failing.add(inp)\n",
    "    elif oracle_result == OracleResult.PASSING:\n",
    "        passing.add(inp)\n",
    "\n",
    "print(f\"Generated {len(passing)} passing inputs for evaluation!\")\n",
    "print(f\"Generated {len(failing)} passing inputs for evaluation!\")"
   ]
  },
  {
   "cell_type": "code",
   "execution_count": 11,
   "id": "726c6c78-54f3-466a-8bd1-30ed4a5dd11b",
   "metadata": {},
   "outputs": [],
   "source": [
    "from isla.evaluator import evaluate\n",
    "\n",
    "eval_results_passing = []\n",
    "for inp in list(passing):\n",
    "    eval_results_passing.append(bool(evaluate(failure_diagnosis.formula, inp.tree, grammar)))\n",
    "\n",
    "eval_results_failing = []\n",
    "for inp in list(failing):\n",
    "    eval_results_failing.append(bool(evaluate(failure_diagnosis.formula, inp.tree, grammar)))"
   ]
  },
  {
   "cell_type": "code",
   "execution_count": 12,
   "id": "27c1ce89-a30e-4d8c-89e1-330d4851f9ce",
   "metadata": {},
   "outputs": [
    {
     "name": "stdout",
     "output_type": "stream",
     "text": [
      "The Diagnosis achieved a Precision of 73.50% and a Recall of 85.57%\n"
     ]
    }
   ],
   "source": [
    "tp = sum(int(entry) for entry in eval_results_failing)\n",
    "fn = len(eval_results_failing) -tp\n",
    "fp = sum(int(entry) for entry in eval_results_passing)\n",
    "\n",
    "precision = tp / (tp + fp)\n",
    "recall = tp / (tp + fn)\n",
    "\n",
    "print(f\"The Diagnosis achieved a Precision of {precision*100:.2f}% and a Recall of {recall*100:.2f}%\")"
   ]
  },
  {
   "cell_type": "code",
   "execution_count": 13,
   "id": "cfa67460-98a9-4ff9-8b42-964a7b4d89ac",
   "metadata": {},
   "outputs": [
    {
     "name": "stdout",
     "output_type": "stream",
     "text": [
      "The Diagnosis achieved a Precision of 73.50% and a Recall of 85.57%\n"
     ]
    }
   ],
   "source": [
    "tp = sum(int(entry) for entry in list(eval_results_failing))\n",
    "fn = len(eval_results_failing) -tp\n",
    "fp = sum(int(entry) for entry in eval_results_passing)\n",
    "\n",
    "precision = tp / (tp + fp)\n",
    "recall = tp / (tp + fn)\n",
    "\n",
    "print(f\"The Diagnosis achieved a Precision of {precision*100:.2f}% and a Recall of {recall*100:.2f}%\")"
   ]
  },
  {
   "cell_type": "code",
   "execution_count": 14,
   "id": "912bc25a-260a-40ac-89e0-43b18213c02d",
   "metadata": {},
   "outputs": [],
   "source": [
    "## Producer"
   ]
  },
  {
   "cell_type": "code",
   "execution_count": 17,
   "id": "b5be4393-b275-4590-8f1f-401313bc894f",
   "metadata": {},
   "outputs": [],
   "source": [
    "formula = \"\"\"\n",
    "exists <operator> elem in start:\n",
    "    (= elem \"/\")\n",
    "\"\"\""
   ]
  },
  {
   "cell_type": "code",
   "execution_count": 18,
   "id": "8b1ce4d9-8bb1-44a0-9c4b-2eb935dd9cef",
   "metadata": {},
   "outputs": [],
   "source": [
    "from isla.solver import ISLaSolver\n",
    "\n",
    "solver = ISLaSolver(\n",
    "    grammar,\n",
    "    formula=formula,\n",
    "    enable_optimized_z3_queries=False\n",
    ")"
   ]
  },
  {
   "cell_type": "code",
   "execution_count": 19,
   "id": "450023d0-5e0f-4e01-a57c-ec35dc16613f",
   "metadata": {},
   "outputs": [
    {
     "name": "stdout",
     "output_type": "stream",
     "text": [
      "0+(-1-23/4/-306*-0.7)/-61.9    (<OracleResult.PASSING: 'PASSING'>, None)\n",
      "-98.2/-55.542                  (<OracleResult.PASSING: 'PASSING'>, None)\n",
      "8/-7                           (<OracleResult.PASSING: 'PASSING'>, None)\n",
      "(-0.1*((0*0)))-(((0*-0)))+((((-2))))/-641 (<OracleResult.PASSING: 'PASSING'>, None)\n",
      "(-0.50)+((0))/-0.6*-0/-0/(-0+-0/-43/(-0+-0)) (<OracleResult.FAILING: 'FAILING'>, <class 'ZeroDivisionError'>)\n",
      "(0)/-1439                      (<OracleResult.PASSING: 'PASSING'>, None)\n",
      "(-0/(0*-0)+-3.0+((0.0)))/0.2+-9*9--0.1 (<OracleResult.FAILING: 'FAILING'>, <class 'ZeroDivisionError'>)\n",
      "(-0)/-0*(-0)/-0.6/0.988        (<OracleResult.FAILING: 'FAILING'>, <class 'ZeroDivisionError'>)\n",
      "((0*-0*-0+0)+(((8)))+((-0+-0))+0.0)/(0/0) (<OracleResult.FAILING: 'FAILING'>, <class 'ZeroDivisionError'>)\n",
      "((-0-0)*-0)+(-4)+((0+-0--0))-(0)/3516400 (<OracleResult.PASSING: 'PASSING'>, None)\n",
      "-0/0/((0))/(0-0+((0/-0))--0-0+0)+0+0 (<OracleResult.FAILING: 'FAILING'>, <class 'ZeroDivisionError'>)\n",
      "0.974/37.2/(((488.6/0.8)))+3   (<OracleResult.PASSING: 'PASSING'>, None)\n",
      "-0+-27366/-0.262/-1.23/((-0))*0.7 (<OracleResult.FAILING: 'FAILING'>, <class 'ZeroDivisionError'>)\n",
      "8586492+0/(((((((-0+-0)/0))))+((((-0*5))))+-0/7+0)) (<OracleResult.FAILING: 'FAILING'>, <class 'ZeroDivisionError'>)\n",
      "0.7-0/(-0.56)-((-0*-0/0/0--0)) (<OracleResult.FAILING: 'FAILING'>, <class 'ZeroDivisionError'>)\n",
      "7--0.3/0.775                   (<OracleResult.PASSING: 'PASSING'>, None)\n",
      "68.69*-0.4098/(-1)-0           (<OracleResult.PASSING: 'PASSING'>, None)\n",
      "4/2/-0                         (<OracleResult.FAILING: 'FAILING'>, <class 'ZeroDivisionError'>)\n",
      "-0-0.52/0.8                    (<OracleResult.PASSING: 'PASSING'>, None)\n",
      "0+1.540/(0)                    (<OracleResult.FAILING: 'FAILING'>, <class 'ZeroDivisionError'>)\n",
      "-0/-7/(0.87)                   (<OracleResult.PASSING: 'PASSING'>, None)\n",
      "0/-0/3036188/((-4.0*(-0)-(((3)+(0*0+-0*(0)))))*(-0)) (<OracleResult.FAILING: 'FAILING'>, <class 'ZeroDivisionError'>)\n",
      "0.28/-0/-0/-0+0-(-3)*0/(-0)    (<OracleResult.FAILING: 'FAILING'>, <class 'ZeroDivisionError'>)\n",
      "0/-2/((-0)*-0.38/(((-0.12))))  (<OracleResult.FAILING: 'FAILING'>, <class 'ZeroDivisionError'>)\n",
      "-0.4/-0.62/(((-0)))            (<OracleResult.FAILING: 'FAILING'>, <class 'ZeroDivisionError'>)\n",
      "-0.7/9.8/-16+56*((0.8671))     (<OracleResult.PASSING: 'PASSING'>, None)\n",
      "0/-25.52/(3)*(-0.28799+(((((((-2)/8.4))))))) (<OracleResult.PASSING: 'PASSING'>, None)\n",
      "0.2514/-0.305/(((0)))          (<OracleResult.FAILING: 'FAILING'>, <class 'ZeroDivisionError'>)\n",
      "0/-0.6/(-4+(((-0.4896))))      (<OracleResult.PASSING: 'PASSING'>, None)\n",
      "428.97/0/5.1+0*0-0*-0          (<OracleResult.FAILING: 'FAILING'>, <class 'ZeroDivisionError'>)\n",
      "44.7+0/(((-126.658049))/((-29.0)))+(24-((((((0)*-0)))))) (<OracleResult.PASSING: 'PASSING'>, None)\n",
      "0--0.1/((9))--4.8              (<OracleResult.PASSING: 'PASSING'>, None)\n",
      "-80*-0/((-0))+(((-164)))*-0*-0/0*0 (<OracleResult.FAILING: 'FAILING'>, <class 'ZeroDivisionError'>)\n",
      "-0.23/0/(0+0-((-0.43)))/-0     (<OracleResult.FAILING: 'FAILING'>, <class 'ZeroDivisionError'>)\n",
      "-0-0.69535/(-0*-0/0)+0+0+-0-(-0)+-0*0+(-6)/0/-0.8--89+-0 (<OracleResult.FAILING: 'FAILING'>, <class 'ZeroDivisionError'>)\n",
      "-8.6*362.6/-0.8*(-0/-0.88483)  (<OracleResult.PASSING: 'PASSING'>, None)\n",
      "-0.03+0/(2)/(((((-0.92/(((7.6)))))))+5.68) (<OracleResult.PASSING: 'PASSING'>, None)\n",
      "0+-50/0*((((2+-5.0126))))      (<OracleResult.FAILING: 'FAILING'>, <class 'ZeroDivisionError'>)\n",
      "6--39.5/-0.4*((0))             (<OracleResult.PASSING: 'PASSING'>, None)\n",
      "49523*0/(-0/-0+-0)-(0*0)/0.3-0+-0-(4)*(0)-(((-0)/0.010)) (<OracleResult.FAILING: 'FAILING'>, <class 'ZeroDivisionError'>)\n",
      "1.570/4.95/-9-0.766/3.0        (<OracleResult.PASSING: 'PASSING'>, None)\n",
      "0/0.57/-0*-6*(((-0)))+-5/0.1/((0.59)) (<OracleResult.FAILING: 'FAILING'>, <class 'ZeroDivisionError'>)\n",
      "77--0.3/(0.7)/((((0.6)-((((0.1)+((-0.0)))))+0.54))) (<OracleResult.PASSING: 'PASSING'>, None)\n",
      "0*0.7/-8/(0.8+-0.52513)        (<OracleResult.PASSING: 'PASSING'>, None)\n",
      "-0.36/4/-0.03/0                (<OracleResult.FAILING: 'FAILING'>, <class 'ZeroDivisionError'>)\n",
      "-0.0/0.98/-0/0.37-0.57         (<OracleResult.FAILING: 'FAILING'>, <class 'ZeroDivisionError'>)\n",
      "-38.7615*2/0/-7                (<OracleResult.FAILING: 'FAILING'>, <class 'ZeroDivisionError'>)\n",
      "834.9028027--0.5/(-0)/(0/-0+0.6+0*0/0)-0 (<OracleResult.FAILING: 'FAILING'>, <class 'ZeroDivisionError'>)\n",
      "9.3/-0.3/-7.87/(((0-79-0)))+(((-2))) (<OracleResult.PASSING: 'PASSING'>, None)\n",
      "-0--35.23/0/(0)                (<OracleResult.FAILING: 'FAILING'>, <class 'ZeroDivisionError'>)\n",
      "-0/8.1/0+-2*-0.82548           (<OracleResult.FAILING: 'FAILING'>, <class 'ZeroDivisionError'>)\n",
      "-0.7/-0.90/(0/-0.8-((0.13)))*-0/4-0 (<OracleResult.PASSING: 'PASSING'>, None)\n",
      "-0/-7/-0.22/-52524228--0.7     (<OracleResult.PASSING: 'PASSING'>, None)\n",
      "-0/-0.531/((1))+(((((0*0)/0+0))))+-0+-0-0.49 (<OracleResult.FAILING: 'FAILING'>, <class 'ZeroDivisionError'>)\n",
      "-0/6/3.56/(-0)--6.7-((566.5)+(-35)) (<OracleResult.FAILING: 'FAILING'>, <class 'ZeroDivisionError'>)\n",
      "-0.4/-0.2/((0/0*-0))--0.8      (<OracleResult.FAILING: 'FAILING'>, <class 'ZeroDivisionError'>)\n",
      "0.53/-6.48/((-37))--73.3       (<OracleResult.PASSING: 'PASSING'>, None)\n",
      "-1/-8/(-1)*-0.484-0.5          (<OracleResult.PASSING: 'PASSING'>, None)\n",
      "0.121593/0.27/8304.5/0.429     (<OracleResult.PASSING: 'PASSING'>, None)\n",
      "0/-2.69197/((-0-0--0+0--0-0))+-0.3 (<OracleResult.FAILING: 'FAILING'>, <class 'ZeroDivisionError'>)\n",
      "94447/-838/-0.48*(((-0+-0)-0/-0+0/0.4283+0))/((0.6*(-0*-0))*-0)+(1.2459) (<OracleResult.FAILING: 'FAILING'>, <class 'ZeroDivisionError'>)\n",
      "0*-0.6/0.74--0.38--0--0+0+((0.230)) (<OracleResult.PASSING: 'PASSING'>, None)\n",
      "0.1/453.7700/-947/(-0/-0)/(0/-0+0+-0)*0 (<OracleResult.FAILING: 'FAILING'>, <class 'ZeroDivisionError'>)\n",
      "0.9+0/0/((((0.59))+(0.3/(((5)))))*((((0)))))+(2228) (<OracleResult.FAILING: 'FAILING'>, <class 'ZeroDivisionError'>)\n",
      "-0.9/0.0/-0*-0-0-0/(0)+-0+-0/0/(0)-0 (<OracleResult.FAILING: 'FAILING'>, <class 'ZeroDivisionError'>)\n",
      "0.8/-0/0.3213-(0/-0.494)*-0.4  (<OracleResult.FAILING: 'FAILING'>, <class 'ZeroDivisionError'>)\n",
      "0/-0.6/-0.1+(((-0.0*-0*-0--0-0+0-0))--0)+-0.9/(0.43) (<OracleResult.PASSING: 'PASSING'>, None)\n",
      "-0.3-76/-0/(((0+-0)/-0--0*(-0))*64.8)-(0)+-0+(0*-0.5) (<OracleResult.FAILING: 'FAILING'>, <class 'ZeroDivisionError'>)\n",
      "0+6462/9+(1)/(-0.006--19)*74   (<OracleResult.PASSING: 'PASSING'>, None)\n",
      "0--9/5.456*(-0.93)+0-(-0/29/(((-0)))+(((-0.306)))) (<OracleResult.FAILING: 'FAILING'>, <class 'ZeroDivisionError'>)\n",
      "451.7*-0.4/-32.4*(-0*0/-0--0*0-(-0)--0)/-24+-0/0/0/-0-(-0/-0)/((0)) (<OracleResult.FAILING: 'FAILING'>, <class 'ZeroDivisionError'>)\n",
      "-3.640*-0/-0-0/-5*(-0.145-0.375--0) (<OracleResult.FAILING: 'FAILING'>, <class 'ZeroDivisionError'>)\n",
      "0+-0/-355.14*0/-0              (<OracleResult.FAILING: 'FAILING'>, <class 'ZeroDivisionError'>)\n",
      "-0.79+0.0/-0*((0/0))*4-0-(((((((-0-0)))))+-0.3))/0.3 (<OracleResult.FAILING: 'FAILING'>, <class 'ZeroDivisionError'>)\n",
      "0.5*0/289*0.33/((((((-0/-0+-0.8*(-0*0*-0)/0.05-7)))))) (<OracleResult.FAILING: 'FAILING'>, <class 'ZeroDivisionError'>)\n",
      "0.8/-0.82/-0.2-0.40/(0)/11058193 (<OracleResult.FAILING: 'FAILING'>, <class 'ZeroDivisionError'>)\n",
      "-28.613*-0.27/0+0/-0.3         (<OracleResult.FAILING: 'FAILING'>, <class 'ZeroDivisionError'>)\n",
      "-6/6/0.561*0/0                 (<OracleResult.FAILING: 'FAILING'>, <class 'ZeroDivisionError'>)\n",
      "-17.4+-7/0+(-0)/0              (<OracleResult.FAILING: 'FAILING'>, <class 'ZeroDivisionError'>)\n",
      "0/-27/-5.00-(0+-0*-0-(8*0))/((0)*0-0)*((-0+-0))/((((0)+-0+((-0))))) (<OracleResult.FAILING: 'FAILING'>, <class 'ZeroDivisionError'>)\n",
      "35/8.3/0.7/((((0)-((((0))*(0)/-0.9))+((((((0/-0+0--0/((-0))))))))+-57)))/(-0)-(0+-0-((0)))+0+(0)/-0 (<OracleResult.FAILING: 'FAILING'>, <class 'ZeroDivisionError'>)\n",
      "-45.850820+0.0583681518/0/5.347*-3.31 (<OracleResult.FAILING: 'FAILING'>, <class 'ZeroDivisionError'>)\n",
      "0+-0.73/-0.6/-21.0/(-0*(-0.8)) (<OracleResult.FAILING: 'FAILING'>, <class 'ZeroDivisionError'>)\n",
      "9*24844468338.0/-0.0/(((0*-0+-0+-0))+(-0/0)-0)/(-0.3) (<OracleResult.FAILING: 'FAILING'>, <class 'ZeroDivisionError'>)\n",
      "0/0/-22610/0.0/(0/-0+-0+32.96)+(-0.8/93) (<OracleResult.FAILING: 'FAILING'>, <class 'ZeroDivisionError'>)\n",
      "0*-0.75/0/(0)+-0/-0.2/(0/-0)+-0/0-(-4) (<OracleResult.FAILING: 'FAILING'>, <class 'ZeroDivisionError'>)\n",
      "-0.3-0.5/2/(-0)+(((((-0/-0-0--0)+0/-0--0)))+(0)-((0))) (<OracleResult.FAILING: 'FAILING'>, <class 'ZeroDivisionError'>)\n",
      "-0.1*-0.2/-0/(-0.92)-(((((0/0.52)/(-0--0)+-0+-0)))) (<OracleResult.FAILING: 'FAILING'>, <class 'ZeroDivisionError'>)\n",
      "-0.6-0/-0/-0.6*0.04            (<OracleResult.FAILING: 'FAILING'>, <class 'ZeroDivisionError'>)\n",
      "0.0867/-3.04/-661.3/((((-15937--0))))*0/3.1 (<OracleResult.PASSING: 'PASSING'>, None)\n",
      "90.8/-4.8/-0-(0)+(-0*0/-90*(-0/-0.31/-0*9)) (<OracleResult.FAILING: 'FAILING'>, <class 'ZeroDivisionError'>)\n",
      "0/-0.84/0--53+(((-0*0)/-5+(9*0)))+61*(-0)/51947.4*-6/(((39.08))) (<OracleResult.FAILING: 'FAILING'>, <class 'ZeroDivisionError'>)\n",
      "-0.0/1.8/8.3222873-0.1*0.536   (<OracleResult.PASSING: 'PASSING'>, None)\n",
      "-2.8686/4.035/-0*(0.9+(((-0))-(8)--0+0-0--8.3))*-8.6 (<OracleResult.FAILING: 'FAILING'>, <class 'ZeroDivisionError'>)\n",
      "6/0.3/3486777/-0+0.5*452/-0*0.044 (<OracleResult.FAILING: 'FAILING'>, <class 'ZeroDivisionError'>)\n",
      "-3/-57.9/0.2-0.3*-0.5*0        (<OracleResult.PASSING: 'PASSING'>, None)\n",
      "0/-0/-0.37+(((((-39.3)))))+(0.98)+(-1)+0/0-0 (<OracleResult.FAILING: 'FAILING'>, <class 'ZeroDivisionError'>)\n",
      "0.7/-6/0+4058.3140-0           (<OracleResult.FAILING: 'FAILING'>, <class 'ZeroDivisionError'>)\n",
      "-0/-0/-9-((((0))/-0/0*-0*0-(-0.61)--0))/0 (<OracleResult.FAILING: 'FAILING'>, <class 'ZeroDivisionError'>)\n",
      "-0.24/0/0*(((((0)))+-0.47)-0.9)*(((-3)+(0)))*((0--7))/(-0)*0 (<OracleResult.FAILING: 'FAILING'>, <class 'ZeroDivisionError'>)\n"
     ]
    }
   ],
   "source": [
    "failing_inputs = []\n",
    "for _ in range(100):\n",
    "    try:\n",
    "        inp = solver.solve()\n",
    "        failing_inputs.append(inp)\n",
    "        print(str(inp).ljust(30), oracle(inp))\n",
    "    except StopIteration:\n",
    "        continue"
   ]
  },
  {
   "cell_type": "code",
   "execution_count": 21,
   "id": "373f6e75-bcba-4840-bae2-820344a3529b",
   "metadata": {},
   "outputs": [],
   "source": [
    "from typing import List\n",
    "\n",
    "oracle = divide_by_zero_oracle\n",
    "\n",
    "producer_failing: List[bool] = []\n",
    "for inp in failing_inputs:\n",
    "    oracle_result, exception = oracle(inp)\n",
    "    producer_failing.append(\n",
    "        oracle_result.is_failing()\n",
    "    )"
   ]
  },
  {
   "cell_type": "code",
   "execution_count": 22,
   "id": "40c8ab17-b4a7-4381-b11f-80c8c541ceb1",
   "metadata": {},
   "outputs": [
    {
     "name": "stdout",
     "output_type": "stream",
     "text": [
      "Generated 100 inputs which are expected to be failing. (34 inputs are passing)\n"
     ]
    }
   ],
   "source": [
    "print(f\"Generated {len(failing_inputs)} inputs which are expected to be failing. ({sum(not(inp) for inp in producer_failing)} inputs are passing)\")"
   ]
  },
  {
   "cell_type": "code",
   "execution_count": 23,
   "id": "0de6773f-e41f-4a01-bab7-24b722239cf2",
   "metadata": {},
   "outputs": [],
   "source": [
    "# Negated "
   ]
  },
  {
   "cell_type": "code",
   "execution_count": 29,
   "id": "d9fb814a-bc0d-4766-8778-cf523d0ffd06",
   "metadata": {},
   "outputs": [],
   "source": [
    "from isla.solver import ISLaSolver\n",
    "\n",
    "solver = ISLaSolver(\n",
    "    grammar,\n",
    "    formula=\"not(\"+formula+\")\",\n",
    "    enable_optimized_z3_queries=False\n",
    ")"
   ]
  },
  {
   "cell_type": "code",
   "execution_count": 31,
   "id": "2c85c9c9-90e5-4685-9d1c-1a6217d99a03",
   "metadata": {},
   "outputs": [
    {
     "name": "stdout",
     "output_type": "stream",
     "text": [
      "-0                             (<OracleResult.PASSING: 'PASSING'>, None)\n",
      "-0.7                           (<OracleResult.PASSING: 'PASSING'>, None)\n",
      "-2.84                          (<OracleResult.PASSING: 'PASSING'>, None)\n",
      "-5.59                          (<OracleResult.PASSING: 'PASSING'>, None)\n",
      "-5896.25                       (<OracleResult.PASSING: 'PASSING'>, None)\n",
      "7                              (<OracleResult.PASSING: 'PASSING'>, None)\n",
      "-0                             (<OracleResult.PASSING: 'PASSING'>, None)\n",
      "0                              (<OracleResult.PASSING: 'PASSING'>, None)\n",
      "-0.5                           (<OracleResult.PASSING: 'PASSING'>, None)\n",
      "0.1                            (<OracleResult.PASSING: 'PASSING'>, None)\n",
      "-0                             (<OracleResult.PASSING: 'PASSING'>, None)\n",
      "0.36                           (<OracleResult.PASSING: 'PASSING'>, None)\n",
      "0.14                           (<OracleResult.PASSING: 'PASSING'>, None)\n",
      "11                             (<OracleResult.PASSING: 'PASSING'>, None)\n",
      "-0.87                          (<OracleResult.PASSING: 'PASSING'>, None)\n",
      "0                              (<OracleResult.PASSING: 'PASSING'>, None)\n",
      "47.0415896                     (<OracleResult.PASSING: 'PASSING'>, None)\n",
      "0                              (<OracleResult.PASSING: 'PASSING'>, None)\n",
      "-0                             (<OracleResult.PASSING: 'PASSING'>, None)\n",
      "-191                           (<OracleResult.PASSING: 'PASSING'>, None)\n",
      "-249781.3                      (<OracleResult.PASSING: 'PASSING'>, None)\n",
      "-4                             (<OracleResult.PASSING: 'PASSING'>, None)\n",
      "-506                           (<OracleResult.PASSING: 'PASSING'>, None)\n",
      "-74                            (<OracleResult.PASSING: 'PASSING'>, None)\n",
      "0.40                           (<OracleResult.PASSING: 'PASSING'>, None)\n",
      "0                              (<OracleResult.PASSING: 'PASSING'>, None)\n",
      "0.8                            (<OracleResult.PASSING: 'PASSING'>, None)\n",
      "0                              (<OracleResult.PASSING: 'PASSING'>, None)\n",
      "-85872.3                       (<OracleResult.PASSING: 'PASSING'>, None)\n",
      "-0                             (<OracleResult.PASSING: 'PASSING'>, None)\n",
      "0.52                           (<OracleResult.PASSING: 'PASSING'>, None)\n",
      "0                              (<OracleResult.PASSING: 'PASSING'>, None)\n",
      "0                              (<OracleResult.PASSING: 'PASSING'>, None)\n",
      "0                              (<OracleResult.PASSING: 'PASSING'>, None)\n",
      "-0                             (<OracleResult.PASSING: 'PASSING'>, None)\n",
      "-12.90453                      (<OracleResult.PASSING: 'PASSING'>, None)\n",
      "0.4                            (<OracleResult.PASSING: 'PASSING'>, None)\n",
      "-0                             (<OracleResult.PASSING: 'PASSING'>, None)\n",
      "-0.0                           (<OracleResult.PASSING: 'PASSING'>, None)\n",
      "-0.0                           (<OracleResult.PASSING: 'PASSING'>, None)\n",
      "-0.21                          (<OracleResult.PASSING: 'PASSING'>, None)\n",
      "0                              (<OracleResult.PASSING: 'PASSING'>, None)\n",
      "-459                           (<OracleResult.PASSING: 'PASSING'>, None)\n",
      "-4.60                          (<OracleResult.PASSING: 'PASSING'>, None)\n",
      "0                              (<OracleResult.PASSING: 'PASSING'>, None)\n",
      "-0.58                          (<OracleResult.PASSING: 'PASSING'>, None)\n",
      "-27.6984                       (<OracleResult.PASSING: 'PASSING'>, None)\n",
      "-0.10                          (<OracleResult.PASSING: 'PASSING'>, None)\n",
      "89.57                          (<OracleResult.PASSING: 'PASSING'>, None)\n",
      "0.2                            (<OracleResult.PASSING: 'PASSING'>, None)\n",
      "-0.19                          (<OracleResult.PASSING: 'PASSING'>, None)\n",
      "-6                             (<OracleResult.PASSING: 'PASSING'>, None)\n",
      "0                              (<OracleResult.PASSING: 'PASSING'>, None)\n",
      "889                            (<OracleResult.PASSING: 'PASSING'>, None)\n",
      "0.4                            (<OracleResult.PASSING: 'PASSING'>, None)\n",
      "-0.43                          (<OracleResult.PASSING: 'PASSING'>, None)\n",
      "-0                             (<OracleResult.PASSING: 'PASSING'>, None)\n",
      "-0.3                           (<OracleResult.PASSING: 'PASSING'>, None)\n",
      "-74.58                         (<OracleResult.PASSING: 'PASSING'>, None)\n",
      "-0                             (<OracleResult.PASSING: 'PASSING'>, None)\n",
      "-0.8                           (<OracleResult.PASSING: 'PASSING'>, None)\n",
      "0                              (<OracleResult.PASSING: 'PASSING'>, None)\n",
      "0.9                            (<OracleResult.PASSING: 'PASSING'>, None)\n",
      "-0.56                          (<OracleResult.PASSING: 'PASSING'>, None)\n",
      "0                              (<OracleResult.PASSING: 'PASSING'>, None)\n",
      "-0.83                          (<OracleResult.PASSING: 'PASSING'>, None)\n",
      "-0                             (<OracleResult.PASSING: 'PASSING'>, None)\n",
      "0                              (<OracleResult.PASSING: 'PASSING'>, None)\n",
      "0.86                           (<OracleResult.PASSING: 'PASSING'>, None)\n",
      "0.3                            (<OracleResult.PASSING: 'PASSING'>, None)\n",
      "-0.27                          (<OracleResult.PASSING: 'PASSING'>, None)\n",
      "962                            (<OracleResult.PASSING: 'PASSING'>, None)\n",
      "-5                             (<OracleResult.PASSING: 'PASSING'>, None)\n",
      "0.4                            (<OracleResult.PASSING: 'PASSING'>, None)\n",
      "0.57                           (<OracleResult.PASSING: 'PASSING'>, None)\n",
      "-19165.4                       (<OracleResult.PASSING: 'PASSING'>, None)\n",
      "0.7                            (<OracleResult.PASSING: 'PASSING'>, None)\n",
      "-3                             (<OracleResult.PASSING: 'PASSING'>, None)\n",
      "0.72                           (<OracleResult.PASSING: 'PASSING'>, None)\n",
      "-0.41                          (<OracleResult.PASSING: 'PASSING'>, None)\n",
      "0                              (<OracleResult.PASSING: 'PASSING'>, None)\n",
      "-91473.9                       (<OracleResult.PASSING: 'PASSING'>, None)\n",
      "-9                             (<OracleResult.PASSING: 'PASSING'>, None)\n",
      "0.58                           (<OracleResult.PASSING: 'PASSING'>, None)\n",
      "-0.1                           (<OracleResult.PASSING: 'PASSING'>, None)\n",
      "-18.469321                     (<OracleResult.PASSING: 'PASSING'>, None)\n",
      "-6.45                          (<OracleResult.PASSING: 'PASSING'>, None)\n",
      "-0.41                          (<OracleResult.PASSING: 'PASSING'>, None)\n",
      "0.4                            (<OracleResult.PASSING: 'PASSING'>, None)\n",
      "-0                             (<OracleResult.PASSING: 'PASSING'>, None)\n",
      "70                             (<OracleResult.PASSING: 'PASSING'>, None)\n",
      "-5.45                          (<OracleResult.PASSING: 'PASSING'>, None)\n",
      "-316                           (<OracleResult.PASSING: 'PASSING'>, None)\n",
      "-6.34                          (<OracleResult.PASSING: 'PASSING'>, None)\n",
      "0                              (<OracleResult.PASSING: 'PASSING'>, None)\n",
      "-0                             (<OracleResult.PASSING: 'PASSING'>, None)\n",
      "0                              (<OracleResult.PASSING: 'PASSING'>, None)\n",
      "-0                             (<OracleResult.PASSING: 'PASSING'>, None)\n",
      "-4                             (<OracleResult.PASSING: 'PASSING'>, None)\n",
      "-0                             (<OracleResult.PASSING: 'PASSING'>, None)\n"
     ]
    }
   ],
   "source": [
    "passing_inputs = []\n",
    "for _ in range(100):\n",
    "    try:\n",
    "        solver = ISLaSolver(\n",
    "            grammar,\n",
    "            formula=\"not(\"+formula+\")\",\n",
    "            enable_optimized_z3_queries=False\n",
    "        )\n",
    "        inp = solver.solve()\n",
    "        passing_inputs.append(inp)\n",
    "        print(str(inp).ljust(30), oracle(inp))\n",
    "    except StopIteration:\n",
    "        continue"
   ]
  },
  {
   "cell_type": "code",
   "execution_count": 33,
   "id": "84e5f4b6-e31e-4fa9-af67-0f2c4235aae9",
   "metadata": {},
   "outputs": [],
   "source": [
    "oracle = divide_by_zero_oracle\n",
    "\n",
    "producer_passing: List[bool] = []\n",
    "for inp in passing_inputs:\n",
    "    oracle_result, exception = oracle(inp)\n",
    "    producer_passing.append(\n",
    "        oracle_result.is_failing()\n",
    "    )"
   ]
  },
  {
   "cell_type": "code",
   "execution_count": 34,
   "id": "178b1ad7-f09d-4541-9605-00adff6cfc86",
   "metadata": {},
   "outputs": [
    {
     "name": "stdout",
     "output_type": "stream",
     "text": [
      "Generated 100 inputs which are expected to be passing. (0 inputs are failing)\n"
     ]
    }
   ],
   "source": [
    "print(f\"Generated {len(passing_inputs)} inputs which are expected to be passing. ({sum(producer_passing)} inputs are failing)\")"
   ]
  },
  {
   "cell_type": "code",
   "execution_count": 35,
   "id": "c8e0d894-e525-4b56-898b-7a9b30f4daef",
   "metadata": {},
   "outputs": [
    {
     "name": "stdout",
     "output_type": "stream",
     "text": [
      "Producer Evaluation:\n",
      "The Diagnosis achieved a Precision of 100.00% a Recall of 66.00%\n"
     ]
    }
   ],
   "source": [
    "from isla.evaluator import evaluate\n",
    "\n",
    "# Calculate Precision and Recall\n",
    "tp = sum(inp for inp in producer_failing)\n",
    "fn = len(producer_failing) - tp\n",
    "fp = sum(inp for inp in producer_passing)\n",
    "\n",
    "precision = tp / (tp + fp) if (tp + fp) > 0 else 0\n",
    "recall = tp / (tp + fn) if (tp + fn) > 0 else 0\n",
    "\n",
    "print(f\"Producer Evaluation:\")\n",
    "print(f\"The Diagnosis achieved a Precision of {precision*100:.2f}% \" +\n",
    "      f\"a Recall of {recall*100:.2f}%\")"
   ]
  },
  {
   "cell_type": "code",
   "execution_count": null,
   "id": "0ff483e9-fc6d-4b13-9121-1f64b2cf687e",
   "metadata": {},
   "outputs": [],
   "source": []
  },
  {
   "cell_type": "code",
   "execution_count": null,
   "id": "0b00cd92-83c5-4c69-a557-120a5270868d",
   "metadata": {},
   "outputs": [],
   "source": []
  }
 ],
 "metadata": {
  "kernelspec": {
   "display_name": "Python 3 (ipykernel)",
   "language": "python",
   "name": "python3"
  },
  "language_info": {
   "codemirror_mode": {
    "name": "ipython",
    "version": 3
   },
   "file_extension": ".py",
   "mimetype": "text/x-python",
   "name": "python",
   "nbconvert_exporter": "python",
   "pygments_lexer": "ipython3",
   "version": "3.12.3"
  }
 },
 "nbformat": 4,
 "nbformat_minor": 5
}
