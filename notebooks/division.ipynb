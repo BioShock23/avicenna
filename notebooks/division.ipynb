{
 "cells": [
  {
   "cell_type": "markdown",
   "id": "e0d6253a-03c4-4710-af76-aba079a85471",
   "metadata": {},
   "source": [
    "# Debugging Division By Zero Errors with Avicenna\n",
    "\n",
    "This notebook explores the use of the Avicenna tool to understand and diagnose failure scenarios that lead to a division by zero error in a calculator program. We aim to create a grammar that defines possible arithmetic expressions and utilize Avicenna's capabilities to identify expressions that could result in division by zero."
   ]
  },
  {
   "cell_type": "code",
   "execution_count": 1,
   "id": "911cbcbb-3752-4324-bce9-448c3b1db324",
   "metadata": {},
   "outputs": [],
   "source": [
    "# Suppress logging for the notebook; uncomment the last line to disable Avicenna logs\n",
    "import logging\n",
    "\n",
    "# This will disable all logging messages\n",
    "logging.disable(logging.CRITICAL)"
   ]
  },
  {
   "cell_type": "markdown",
   "id": "578d03b4-7f32-4365-8a2d-4ebfc8ae1245",
   "metadata": {},
   "source": [
    "## Defining the Grammar for Arithmetic Expressions\n",
    "\n",
    "The grammar below specifies the structure of valid arithmetic expressions. It includes operations (addition, subtraction, multiplication, division) and numeric values, which may include whole numbers, fractions, and negative values. The grammar is designed to exhaustively explore various combinations that could potentially lead to a division by zero scenario."
   ]
  },
  {
   "cell_type": "code",
   "execution_count": 2,
   "id": "39cc67d8-07be-4028-8cdd-597e90554c46",
   "metadata": {},
   "outputs": [],
   "source": [
    "import string\n",
    "from avicenna.avicenna import Grammar, is_valid_grammar\n",
    "\n",
    "divide_by_zero_grammar: Grammar = {\n",
    "   \"<start>\": [\"<arith_expr>\"],\n",
    "   \"<arith_expr>\": [\"<arith_expr><operator><arith_expr>\", \"<number>\", \"(<arith_expr>)\"],\n",
    "   \"<operator>\": [\"+\", \"-\", \"*\", \"/\"],\n",
    "   \"<number>\": [\"<maybe_minus><non_zero_digit><maybe_digits><maybe_frac>\", \"<maybe_minus>0.<digits>\", \"<maybe_minus>0\"],\n",
    "   \"<maybe_minus>\": [\"\", \"-\"],\n",
    "   \"<non_zero_digit>\": [str(num) for num in range(1, 10)],  # Exclude 0 from starting digits\n",
    "   \"<digit>\": list(string.digits),\n",
    "   \"<maybe_digits>\": [\"\", \"<digits>\"],\n",
    "   \"<digits>\": [\"<digit>\", \"<digit><digits>\"],\n",
    "   \"<maybe_frac>\": [\"\", \".<digits>\"],\n",
    "}"
   ]
  },
  {
   "cell_type": "markdown",
   "id": "a62fb64c-d8a3-4ba4-8d06-fea79a80a727",
   "metadata": {},
   "source": [
    "It's essential to ensure that the defined grammar is valid and can generate the intended strings without errors. The validation step confirms the grammar's structure and usability before it is used to generate test cases."
   ]
  },
  {
   "cell_type": "code",
   "execution_count": 3,
   "id": "905c4076-b421-4b1e-aad4-1b52a772cd27",
   "metadata": {},
   "outputs": [],
   "source": [
    "assert is_valid_grammar(divide_by_zero_grammar)"
   ]
  },
  {
   "cell_type": "markdown",
   "id": "c2af0c21-2e38-4a2f-a19f-28e13cb223ba",
   "metadata": {},
   "source": [
    "## Oracle Function and Initial Inputs\n",
    "\n",
    "The oracle function evaluates arithmetic expressions to detect whether they result in a division by zero error. We define initial inputs known to either pass or trigger the division by zero error to start the diagnosis process with known outcomes. These examples help Avicenna in learning and refining its model of failure.\n"
   ]
  },
  {
   "cell_type": "code",
   "execution_count": 4,
   "id": "f522bdd9-6bbb-49bb-85c0-a235650bcb1a",
   "metadata": {},
   "outputs": [],
   "source": [
    "from avicenna.input import OracleResult\n",
    "\n",
    "# Oracle for divide by zero\n",
    "def divide_by_zero_oracle(inp: str):\n",
    "   try:\n",
    "       eval(str(inp))  \n",
    "   except ZeroDivisionError as e:\n",
    "       return OracleResult.FAILING, ZeroDivisionError\n",
    "   return OracleResult.PASSING, None\n",
    "\n",
    "# Initial inputs for Avicenna\n",
    "divide_by_zero_inputs =  ['1/0', '5/(3-3)', '(2+3)/5', '7/(2*0)', '9/(0/3)']"
   ]
  },
  {
   "cell_type": "markdown",
   "id": "798d197b-42a4-4a25-92fd-d8acc31a5d12",
   "metadata": {},
   "source": [
    "## Initializing Avicenna for Diagnosis\n",
    "\n",
    "An instance of Avicenna is created with the specified grammar, the oracle function, and the initial set of test inputs. We set a limit on the number of iterations Avicenna should perform, which controls the depth of analysis while trying to understand the failure scenarios."
   ]
  },
  {
   "cell_type": "code",
   "execution_count": 5,
   "id": "7d7a5b01-f39e-4748-9811-d848c00262f7",
   "metadata": {},
   "outputs": [],
   "source": [
    "from avicenna import Avicenna\n",
    "\n",
    "# Avicenna instance\n",
    "avicenna_divide_by_zero = Avicenna(\n",
    "    grammar=divide_by_zero_grammar,\n",
    "    oracle=divide_by_zero_oracle,\n",
    "    initial_inputs=divide_by_zero_inputs,\n",
    "    max_iterations=5,\n",
    ")"
   ]
  },
  {
   "cell_type": "markdown",
   "id": "a1e022d2-acf8-4de0-8d4d-c4f2f1f101d1",
   "metadata": {},
   "source": [
    "## Diagnosis Results\n",
    "\n",
    "After running the diagnostic process, Avicenna provides a set of constraints that describe the circumstances under which the failure occurs, along with the precision and recall of its findings. These metrics help assess the accuracy and completeness of the diagnosis.\n"
   ]
  },
  {
   "cell_type": "code",
   "execution_count": 6,
   "id": "71b576fe-5949-4a25-929c-1dc9bfcc7589",
   "metadata": {},
   "outputs": [],
   "source": [
    "# Getting the diagnosis from Avicenna\n",
    "diagnosis = avicenna_divide_by_zero.explain()"
   ]
  },
  {
   "cell_type": "code",
   "execution_count": 7,
   "id": "bb1eedd4-8a31-42ad-9f91-f5d452850413",
   "metadata": {},
   "outputs": [
    {
     "name": "stdout",
     "output_type": "stream",
     "text": [
      "Avicenna determined the following constraints to describe the failure circumstances:\n",
      "\n",
      "exists <operator> elem in start:\n",
      "  (= elem \"/\")\n",
      "Avicenna calculated a precision of 71.79% and a recall of 100.00%\n",
      "\n"
     ]
    }
   ],
   "source": [
    "from isla.language import ISLaUnparser\n",
    "\n",
    "print(f\"Avicenna determined the following constraints to describe the failure circumstances:\\n\")\n",
    "\n",
    "print(ISLaUnparser(diagnosis[0]).unparse())\n",
    "print(f\"Avicenna calculated a precision of {diagnosis[1]*100:.2f}% and a recall of {diagnosis[2]*100:.2f}%\", end=\"\\n\\n\")"
   ]
  },
  {
   "cell_type": "markdown",
   "id": "b47d21af-0497-4e16-8bdb-0ff4c05e4951",
   "metadata": {},
   "source": [
    "This constraint specifies that a failure (division by zero error) is predicted to occur if there exists an operator element (\\<operator>) in the starting expression (\\<start>) which is specifically a division operator (\"/\"). In simpler terms, Avicenna has learned that the presence of a division operator in an arithmetic expression is necessary for a division by zero error to potentially occur."
   ]
  },
  {
   "cell_type": "markdown",
   "id": "910bc721-074a-40ba-b586-fec03738d133",
   "metadata": {},
   "source": [
    "#### Limitations"
   ]
  },
  {
   "cell_type": "markdown",
   "id": "52f5fd3b-fec0-44b2-8e7f-9d5cb63d9ebe",
   "metadata": {},
   "source": [
    "The diagnosis provided by Avicenna, stating the existence of an operator \"/\" in the expression as a key to predicting a division by zero, and the noted precision and recall metrics offer insights into its performance. However, this diagnosis isn't perfect for identifying all arithmetic expressions that can cause a division by zero for several reasons:"
   ]
  },
  {
   "cell_type": "markdown",
   "id": "dd5e319e-a352-444e-b8c5-0209319eee1f",
   "metadata": {},
   "source": [
    "The constraint \n",
    "```\n",
    "exists <operator> elem in start:\n",
    "    (= elem \"/\")\n",
    "```\n",
    "simplifies the problem by stating that the presence of a division operator \"/\" anywhere in the expression is a significant indicator of a potential division by zero. This approach is too general because:\n",
    "\n",
    "- **Not all divisions lead to zero**: Just because an expression contains a division does not necessarily mean it will result in a division by zero. The diagnosis doesn't consider the value of the denominator, which is crucial.\n",
    "- **False positives**: This leads to many false positives, where divisions are normal and valid (e.g., (2+3)/5), which explains why the precision is less than 100%.\n",
    "- **Position and role of zeros**: For a division by zero to occur, the division operator must be immediately followed by a zero or an expression that evaluates to zero. The diagnosis doesn’t specify this.\n",
    "- **Complex expressions**: Expressions like 5/(3-3) or 7/(2*0) involve more complex scenarios where the denominator results in zero due to the operation, not just the presence of a zero or division operator."
   ]
  },
  {
   "cell_type": "markdown",
   "id": "c6c3186d-21a5-407d-8dde-27fc68e211ed",
   "metadata": {},
   "source": [
    "For the diagnosis to be perfect, Avicenna would need to more accurately identify only those scenarios where the denominator evaluates to zero, without overgeneralizing to all uses of the division operator. Improving the model might involve refining the grammar used to generate test cases, providing more diverse training inputs, and possibly enhancing the model's understanding of complex arithmetic expressions. The goal would be to maintain the high recall while increasing precision, thus reducing false positives."
   ]
  },
  {
   "cell_type": "markdown",
   "id": "165b2474-0288-4da5-a7a6-288577b23059",
   "metadata": {},
   "source": [
    "## Evaluation of the Learned Constraint"
   ]
  },
  {
   "cell_type": "code",
   "execution_count": 8,
   "id": "26616c88-8777-4dbe-a6af-7f5c400e51dd",
   "metadata": {},
   "outputs": [
    {
     "name": "stdout",
     "output_type": "stream",
     "text": [
      "Generated 765 inputs for evaluation!\n"
     ]
    }
   ],
   "source": [
    "from debugging_framework.fuzzingbook.fuzzer import GrammarFuzzer\n",
    "from debugging_framework.input.input import Input\n",
    "\n",
    "grammar = divide_by_zero_grammar\n",
    "\n",
    "evaluation_data_set = set()\n",
    "fuzzer = GrammarFuzzer(grammar)\n",
    "\n",
    "for _ in range(1000):\n",
    "    tree = fuzzer.fuzz()\n",
    "    evaluation_data_set.add(Input.from_str(grammar=grammar, input_string=tree))\n",
    "\n",
    "print(f\"Generated {len(evaluation_data_set)} inputs for evaluation!\")"
   ]
  },
  {
   "cell_type": "code",
   "execution_count": 9,
   "id": "f587f66b-087a-4936-a767-e03881ceef2c",
   "metadata": {},
   "outputs": [
    {
     "name": "stdout",
     "output_type": "stream",
     "text": [
      "Generated 579 passing inputs for evaluation!\n",
      "Generated 186 passing inputs for evaluation!\n"
     ]
    }
   ],
   "source": [
    "from debugging_framework.input.input import OracleResult\n",
    "\n",
    "oracle = divide_by_zero_oracle\n",
    "failing = set()\n",
    "passing = set()\n",
    "\n",
    "for inp in evaluation_data_set:\n",
    "    oracle_result, exception = oracle(inp)\n",
    "\n",
    "    if oracle_result == OracleResult.FAILING:\n",
    "        failing.add(inp)\n",
    "    elif oracle_result == OracleResult.PASSING:\n",
    "        passing.add(inp)\n",
    "\n",
    "print(f\"Generated {len(passing)} passing inputs for evaluation!\")\n",
    "print(f\"Generated {len(failing)} passing inputs for evaluation!\")"
   ]
  },
  {
   "cell_type": "code",
   "execution_count": 10,
   "id": "726c6c78-54f3-466a-8bd1-30ed4a5dd11b",
   "metadata": {},
   "outputs": [],
   "source": [
    "from isla.evaluator import evaluate\n",
    "\n",
    "eval_results_passing = []\n",
    "for inp in list(passing):\n",
    "    eval_results_passing.append(bool(evaluate(diagnosis[0], inp.tree, grammar)))\n",
    "\n",
    "eval_results_failing = []\n",
    "for inp in list(failing):\n",
    "    eval_results_failing.append(bool(evaluate(diagnosis[0], inp.tree, grammar)))"
   ]
  },
  {
   "cell_type": "code",
   "execution_count": 11,
   "id": "27c1ce89-a30e-4d8c-89e1-330d4851f9ce",
   "metadata": {},
   "outputs": [
    {
     "name": "stdout",
     "output_type": "stream",
     "text": [
      "The Diagnosis achieved a Precision of 72.37% and a Recall of 100.00%\n"
     ]
    }
   ],
   "source": [
    "tp = sum(int(entry) for entry in eval_results_failing)\n",
    "fn = len(eval_results_failing) -tp\n",
    "fp = sum(int(entry) for entry in eval_results_passing)\n",
    "\n",
    "precision = tp / (tp + fp)\n",
    "recall = tp / (tp + fn)\n",
    "\n",
    "print(f\"The Diagnosis achieved a Precision of {precision*100:.2f}% and a Recall of {recall*100:.2f}%\")"
   ]
  },
  {
   "cell_type": "code",
   "execution_count": 12,
   "id": "cfa67460-98a9-4ff9-8b42-964a7b4d89ac",
   "metadata": {},
   "outputs": [
    {
     "name": "stdout",
     "output_type": "stream",
     "text": [
      "The Diagnosis achieved a Precision of 72.37% and a Recall of 100.00%\n"
     ]
    }
   ],
   "source": [
    "tp = sum(int(entry) for entry in list(eval_results_failing))\n",
    "fn = len(eval_results_failing) -tp\n",
    "fp = sum(int(entry) for entry in eval_results_passing)\n",
    "\n",
    "precision = tp / (tp + fp)\n",
    "recall = tp / (tp + fn)\n",
    "\n",
    "print(f\"The Diagnosis achieved a Precision of {precision*100:.2f}% and a Recall of {recall*100:.2f}%\")"
   ]
  },
  {
   "cell_type": "code",
   "execution_count": null,
   "id": "77cec820-e497-4b75-83f7-9f8750acf2a9",
   "metadata": {},
   "outputs": [],
   "source": []
  }
 ],
 "metadata": {
  "kernelspec": {
   "display_name": "Python 3 (ipykernel)",
   "language": "python",
   "name": "python3"
  },
  "language_info": {
   "codemirror_mode": {
    "name": "ipython",
    "version": 3
   },
   "file_extension": ".py",
   "mimetype": "text/x-python",
   "name": "python",
   "nbconvert_exporter": "python",
   "pygments_lexer": "ipython3",
   "version": "3.10.9"
  }
 },
 "nbformat": 4,
 "nbformat_minor": 5
}
