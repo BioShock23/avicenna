{
 "cells": [
  {
   "cell_type": "markdown",
   "id": "ce1a4c68-2925-4e3c-8b35-739ac327eab7",
   "metadata": {},
   "source": [
    "# Tests4Py Benchmark: PySnooper\n",
    "This notebook handles benchmark tests for MarkUp in the Tests4Py framework.\n"
   ]
  },
  {
   "cell_type": "code",
   "execution_count": 1,
   "id": "e39269d8-0cae-4628-83fd-8829da6002c7",
   "metadata": {},
   "outputs": [],
   "source": [
    "# Suppress logging for the notebook; uncomment the last line to disable Avicenna logs\n",
    "import logging\n",
    "\n",
    "# This will disable all logging messages\n",
    "logging.disable(logging.CRITICAL)"
   ]
  },
  {
   "cell_type": "markdown",
   "id": "c321afbe-9552-472c-852a-27ea9e937efe",
   "metadata": {},
   "source": [
    "### Build Program from Repository"
   ]
  },
  {
   "cell_type": "code",
   "execution_count": 2,
   "id": "7498b12b-61ca-46a8-a056-7f76ab73a46a",
   "metadata": {},
   "outputs": [],
   "source": [
    "from tests4py.api.logging import deactivate\n",
    "deactivate()\n",
    "\n",
    "from debugging_benchmark.tests4py_benchmark.repository import PysnooperBenchmarkRepository\n",
    "\n",
    "# Initialize the benchmark repository and select the first program\n",
    "repository = PysnooperBenchmarkRepository()\n",
    "programs = repository.build()\n",
    "# program = programs[0] "
   ]
  },
  {
   "cell_type": "code",
   "execution_count": 3,
   "id": "2da18de8-bf3e-4de4-9ef7-76b69bd416ee",
   "metadata": {},
   "outputs": [
    {
     "data": {
      "text/plain": [
       "[Tests4PyBenchmarkProgram(pysnooper_2), Tests4PyBenchmarkProgram(pysnooper_3)]"
      ]
     },
     "execution_count": 3,
     "metadata": {},
     "output_type": "execute_result"
    }
   ],
   "source": [
    "programs"
   ]
  },
  {
   "cell_type": "markdown",
   "id": "db46003c",
   "metadata": {},
   "source": [
    "### Initialize Avicenna"
   ]
  },
  {
   "cell_type": "markdown",
   "id": "d6db3fee",
   "metadata": {},
   "source": [
    "Initialize the `Avicenna` diagnostic system with specific parameters including minimum recall."
   ]
  },
  {
   "cell_type": "code",
   "execution_count": 4,
   "id": "c2a8ba40-ccab-4d8d-8e22-5922eb349d9a",
   "metadata": {},
   "outputs": [
    {
     "name": "stdout",
     "output_type": "stream",
     "text": [
      "Avicenna determined the following constraints for Tests4PyBenchmarkProgram(pysnooper_2):\n",
      "\n",
      "exists <predicate_list> elem_xy in start:\n",
      "  inside(elem_xy, start)\n",
      "Avicenna calculated a precision of 100.00% and a recall of 100.00%\n",
      "\n",
      "Avicenna determined the following constraints for Tests4PyBenchmarkProgram(pysnooper_3):\n",
      "\n",
      "exists <location> elem_xy in start:\n",
      "  inside(elem_xy, start)\n",
      "Avicenna calculated a precision of 100.00% and a recall of 100.00%\n",
      "\n"
     ]
    }
   ],
   "source": [
    "from typing import Tuple\n",
    "from isla.language import Formula\n",
    "from isla.language import ISLaUnparser\n",
    "\n",
    "from avicenna.avicenna import Avicenna\n",
    "\n",
    "for program in programs:\n",
    "    # Convert program to dictionary format for Avicenna initialization\n",
    "    param = program.to_dict()\n",
    "    \n",
    "    # Initialize Avicenna with a minimum recall configuration\n",
    "    avicenna = Avicenna(\n",
    "        **param,\n",
    "    )\n",
    "    \n",
    "    try:\n",
    "        diagnosis: Tuple[Formula, float, float] = avicenna.explain()\n",
    "        print(f\"Avicenna determined the following constraints for {program}:\\n\")\n",
    "        print(ISLaUnparser(diagnosis[0]).unparse())\n",
    "        print(f\"Avicenna calculated a precision of {diagnosis[1]*100:.2f}% and a recall of {diagnosis[2]*100:.2f}%\", end=\"\\n\\n\")\n",
    "    except Exception as e:\n",
    "        print(f\"Error during diagnosis: {e}\")"
   ]
  }
 ],
 "metadata": {
  "kernelspec": {
   "display_name": "Python 3 (ipykernel)",
   "language": "python",
   "name": "python3"
  },
  "language_info": {
   "codemirror_mode": {
    "name": "ipython",
    "version": 3
   },
   "file_extension": ".py",
   "mimetype": "text/x-python",
   "name": "python",
   "nbconvert_exporter": "python",
   "pygments_lexer": "ipython3",
   "version": "3.10.9"
  }
 },
 "nbformat": 4,
 "nbformat_minor": 5
}
